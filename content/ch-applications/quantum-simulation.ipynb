{
 "cells": [
  {
   "cell_type": "markdown",
   "metadata": {},
   "source": [
    "$$\\newcommand{\\ket}[1]{\\left|{#1}\\right\\rangle}$$\n",
    "$$\\newcommand{\\bra}[1]{\\left\\langle{#1}\\right|}$$\n",
    "$$\\newcommand{\\braket}[2]{\\left\\langle{#1}\\middle|{#2}\\right\\rangle}$$\n",
    "# Digital Quantum Simulations"
   ]
  },
  {
   "cell_type": "markdown",
   "metadata": {},
   "source": [
    "In this tutorial, we will introduce time evolution of quantum states and how to simulate them using the Trotter-Suzuki formalism.  We then show to how to run the time evolution of a one dimensional Fermi-Hubbard chain with three sites."
   ]
  },
  {
   "cell_type": "markdown",
   "metadata": {},
   "source": [
    "## Contents\n",
    "1. [Introduction](#introduction)\n",
    "2. [Trotter-Suzuki Formalism](#ts-equation)\n",
    "3. [The Fermi-Hubbard Model](#hubbard-models)\n",
    "3. [Jordan-Wigner Transformation and Encoding](#jw-transform)\n",
    "4. [One-Dimensional Hubbard Simulation](#1d-chain)"
   ]
  },
  {
   "cell_type": "markdown",
   "metadata": {},
   "source": [
    "## 1. Introduction <a id='introduction'></a>\n",
    "\n",
    "In quantum mechanics, propagation in time of the wavefunction $\\ket{\\Psi(t)}$ is governed by the Shro\\\"{o}dinger equation\n",
    "\n",
    "$$ i\\hbar\\ket{\\Psi(t)} = H\\ket{\\Psi(t)}$$\n",
    "\n",
    "where $H$ is the Hamiltonian operator of the system.  If we consider $H$ to be time-independent, the solution for $\\ket{\\Psi(t)}$ has the form\n",
    "\n",
    "$$ \\ket{\\Psi(t)} = e^{iHt}\\ket{\\Psi(0)} $$\n",
    "\n",
    "and simulating this requires the ability to perform the operation above.  In most cases, this reduces to matrix exponentiation, but proves to be very difficult on classical computers due to the exponential growth of the operator as the system size increases.\n",
    "\n",
    "Efficient approximations to the solution of this equation are possible for Hamiltonians which carry local interactions between the system's consitutent subsystems.  These classes of Hamiltonians can be written in the form\n",
    "\n",
    "$$ H = \\sum_k^L H_k $$\n",
    "\n",
    "where each $H_k$ acts locally on only a portion of the total system.  The advantage of writing the Hamiltonian in this way is that although the total time evolution operator $e^{iHt}$ may be difficult to compute, it is much easier to use $e^{iH_kt}$ as it acts on a much small subsytem and is straightforward to approximate using quantum circuits."
   ]
  },
  {
   "cell_type": "markdown",
   "metadata": {},
   "source": [
    "## 2. Trotter-Suzuki Formalism <a id='ts-equation'></a>"
   ]
  },
  {
   "cell_type": "markdown",
   "metadata": {},
   "source": [
    "## 3. The Fermi-Hubard Model <a id='hubbard-models'></a>"
   ]
  },
  {
   "cell_type": "markdown",
   "metadata": {},
   "source": [
    "## 4. Jordan-Wigner Transformation and Encoding <a id='jw-transform'></a>"
   ]
  },
  {
   "cell_type": "markdown",
   "metadata": {},
   "source": [
    "## 5. One-Dimensional Hubbard Simulation <a id='1d-chain'></a>\n",
    "$$\\newcommand{\\ket}[1]{\\left|{#1}\\right\\rangle}$$\n",
    "$$\\newcommand{\\bra}[1]{\\left\\langle{#1}\\right|}$$\n",
    "\n",
    "The Hubbard Hamiltonian for a 1-D chain of sites is:\n",
    "\n",
    "\\begin{equation} H = -t\\sum_{<ij>,\\sigma}(\\hat{c}_{i_\\sigma}\\hat{c}_{j_\\sigma} + \\hat{c}_{j_\\sigma}^\\dagger\\hat{c}_{i_\\sigma} ) + U\\sum_i\\hat{c}_{i_\\uparrow}^{\\dagger}\\hat{c}_{i_\\uparrow}\\hat{c}_{i_\\downarrow}^{\\dagger}\\hat{c}_{i_\\downarrow}\n",
    "\\end{equation}\n",
    "and under the Jordan-Wigner mapping, this Hamiltonian becomes:\n",
    "\n",
    "\\begin{equation}\n",
    "H = -\\frac{t}{2}\\sum_{<ij>}Z_{i+1:j-1}(X_{i}X_{j} + Y_{i}Y_{j}) + \\frac{U}{4}\\sum_{ij}(I-Z_{i})(I-Z_{j})\n",
    "\\end{equation}\n",
    "where $Z_{i}$, $X_{i}$, and $Y_{i}$ are the corresponding Pauli matrices acting on the $i^{th}$ fermionic mode and for a chain with only 3-sites, there are no Pauli $Z$ strings in the hopping term of the Hamiltonian.\n",
    "\n",
    "### 3-Site Hamiltonian and Qubit Mapping\n",
    "\n",
    "Writing out the sum over the three sites, the Hamiltonian becomes:\n",
    "\n",
    "\\begin{align}\n",
    "     H = &-\\frac{t}{2}(X_0X_1 + Y_0Y_1) - \\frac{t}{2}(X_1X_2 + Y_1Y_2) \\nonumber \\\\ \n",
    "&-\\frac{t}{2}(X_3X_4 + Y_3Y_4) - \\frac{t}{2}(X_4X_5 + Y_4Y_5) \\nonumber\\\\\n",
    "&+ \\frac{U}{4}(I-Z_0)(I-Z_3)+ \\frac{U}{4}(I-Z_1)(I-Z_4) + \\frac{U}{4}(I-Z_2)(I-Z_5) \\nonumber\\\\\n",
    "= &H_{01} + H_{12} + H_{23} + H_{34} + H_{03} + H_{14} + H_{25}\n",
    "\\end{align}\n",
    "\n",
    "#### Qubit Mapping\n",
    "\n",
    "Each site in the 3-site chain is represented by two qubits, one for each spin, and the wavefunction is represented as\n",
    "\n",
    "$$ \\ket{\\psi} = \\ket{q_0}\\ket{q_1}\\ket{q_2}\\ket{q_3}\\ket{q_4}\\ket{q_5} $$\n",
    "\n",
    "where $\\ket{q_i} = \\{ \\ket{0}, \\ket{1} \\} $ represent unoccupied or occupied sites, $i=0,1,2$ are the spin up electron occupations and $i=3,4,5$ are the spin down electron occupations.\n",
    "\n",
    "\n",
    "### Time Evolution\n",
    "\n",
    "We want to simulate the time evolution of $\\ket{\\psi}$ via \n",
    "\n",
    "$$ \\ket{\\psi(t+\\Delta t)} = e^{-iH\\Delta t}\\ket{\\psi(t)} $$\n",
    "\n",
    "\n",
    "We can do this via the Suzuki-Trotter formula which states that, to first order in $\\Delta t$\n",
    "\n",
    "$$e^{iH\\Delta t} \\approx e^{iH_{10}^{\\uparrow}\\Delta t}e^{iH_{12}^{\\uparrow}\\Delta t}e^{iH_{10}^{\\downarrow}\\Delta t}e^{iH_{12}^{\\downarrow}\\Delta t}e^{iH_0\\Delta t}e^{iH_1\\Delta t}e^{iH_2\\Delta t} $$.\n",
    "\n",
    "\n",
    "So what do the gates look like for each of these terms?\n",
    "\n",
    "##### Hopping Terms\n",
    "\n",
    "For each pair of hopping terms we have\n",
    "\\begin{equation}e^{-i\\Delta t(\\frac{-t}{2})(X_iX_j + Y_iY_j)} \\approx e^{\\frac{it\\Delta t}{2}X_iX_j} e^{\\frac{it\\Delta t}{2}Y_iY_j}.\n",
    "\\label{eq:op-expansion}\n",
    "\\end{equation}\n",
    "\n",
    "Expanding the first term on the right hand side\n",
    "\n",
    "\\begin{align}\n",
    "e^{\\frac{it\\Delta t}{2}X_iX_j} = & \\sum_{k=0}^{\\infty} \\frac{1}{k!}\\left(\\frac{it\\Delta t}{2}X_iX_j\\right)^k \\nonumber \\\\\n",
    " =& \\sum_{k, even}\\frac{i^k}{k!}\\left( \\frac{t\\Delta t}{2} \\right)^k I + \\sum_{k, odd}\\frac{i^k}{k!}\\left( \\frac{t\\Delta t}{2} \\right)X_i X_j \\nonumber \\\\ \n",
    " = &\\cos\\left(\\frac{t\\Delta t}{2}\\right)I + i\\sin\\left( \\frac{t\\Delta t}{2}\\right)X_i X_j \\nonumber \\\\\n",
    " = &\\begin{pmatrix}\\cos\\theta & 0 & 0 & i\\sin\\theta \\\\ 0 & \\cos\\theta & i\\sin\\theta & 0 \\\\ 0 & i\\sin\\theta & \\cos\\theta & 0 \\\\ i\\sin\\theta & 0 & 0 & \\cos\\theta\\end{pmatrix},\n",
    "\\end{align}\n",
    "with $\\theta=\\frac{t\\Delta t}{2}$, and written in the $\\ket{q_{i}q_{j}}$ basis.\n",
    "\n",
    "Similarly for the $Y_i Y_j$ terms\n",
    "\n",
    "\\begin{align}\n",
    "    e^{i\\frac{t\\Delta t}{2}Y_i Y_j} =& \\cos\\left(\\frac{t\\Delta t}{2}\\right)I + i\\sin\\left(\\frac{t\\Delta t}{2}\\right)Y_i Y_j \\nonumber \\\\\n",
    "= & \\begin{pmatrix}\\cos\\theta & 0 & 0 & -i\\sin\\theta \\\\ 0 & \\cos\\theta & i\\sin\\theta & 0 \\\\ 0 & i\\sin\\theta & \\cos\\theta & 0 \\\\ -i\\sin\\theta & 0 & 0 & \\cos\\theta\\end{pmatrix}.\n",
    "\\end{align}\n",
    "\n",
    "\n",
    "Note also that these matrices are diagonal save for the 4x4 block corresponding to a gate acting on qubits $i$ and $j$.\n",
    "\n",
    "#### On-Site Terms\n",
    "\n",
    "\n",
    "Now we'll expand the on-site term, $e^{i\\frac{U\\Delta t}{4}(I-Z_i)(I-Z_j)}$.  First we examine the powers of $(I-Z_i)(I-Z_j)$:\n",
    "\n",
    "\\begin{align} (I-Z_i)^2(I-Z_j)^2 &= (I + I - 2Z_i)(I+I-2Z_j) = 4(I-Z_i)(I-Z_j) \\\\\n",
    "(I-Z_i)^3(I-Z_j)^3& = (I-Z_i)(I-Z_j)(I-Z_i)^2(I-Z_j)^2 \\nonumber \\\\\n",
    "&= 4(I-Z_i)^2(I-Z_j)^2 = 16(I-Z_i)(I-Z_j)\\\\\n",
    "(I-Z_i)^4(I-Z_j)^4& = 16(I-Z_i)^2(I-Z_j)^2 = 4^3(I-Z_i)(I-Z_j)\\\\\n",
    "\\implies (I-Z_i)^k(I-Z_j)^k& = 4^{k-1}(I-Z_i)(I-Z_j), \\end{align}\n",
    "\n",
    "then writing out the expansion of $e^{i\\frac{U\\Delta t}{4}(I-Z_i)(I-Z_j)}$ we get\n",
    "\n",
    "\\begin{align} e^{i\\frac{U\\Delta t}{4}(I-Z_i)(I-Z_j)} &= \\sum_k \\frac{1}{k!}\\left(\\frac{i\\Delta tU}{4}\\right)^k(I-Z_i)^k(I-Z_j)^k \\\\\n",
    "&= I+(I-Z_i)(I-Z_j)\\sum_k \\frac{\\left(i\\Delta tU\\right)^k}{k!}\\frac{4^{k-1}}{4^k} - \\frac{1}{4}(I-Z_i)(I-Z_j) \\\\\n",
    "& = I-\\frac{1}{4}(I-Z_i)(I-Z_j) + \\frac{1}{4}e^{iU\\Delta t}(I-Z_i)(I-Z_j)  \\\\\n",
    "& \\boxed{= I-(I-Z_i)(I-Z_j)\\left(1-e^{iU\\Delta t} \\right) } \\\\\n",
    "&= \\begin{pmatrix}1 & 0 & 0 & 0\\\\ 0 & 1& 0 & 0 \\\\ 0 & 0 & 1 & 0 \\\\ 0 & 0 & 0 & e^{iU\\Delta t} \\end{pmatrix} .\n",
    "\\end{align}\n",
    "\n",
    "\n",
    "$^1$https://web.cs.ucdavis.edu/~bai/publications/varneyleebai09.pdf"
   ]
  },
  {
   "cell_type": "code",
   "execution_count": null,
   "metadata": {},
   "outputs": [],
   "source": []
  }
 ],
 "metadata": {
  "kernelspec": {
   "display_name": "Python 3",
   "language": "python",
   "name": "python3"
  },
  "language_info": {
   "codemirror_mode": {
    "name": "ipython",
    "version": 3
   },
   "file_extension": ".py",
   "mimetype": "text/x-python",
   "name": "python",
   "nbconvert_exporter": "python",
   "pygments_lexer": "ipython3",
   "version": "3.7.5"
  }
 },
 "nbformat": 4,
 "nbformat_minor": 4
}
